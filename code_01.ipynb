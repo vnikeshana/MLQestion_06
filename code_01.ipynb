{
  "nbformat": 4,
  "nbformat_minor": 0,
  "metadata": {
    "colab": {
      "provenance": [],
      "authorship_tag": "ABX9TyOvbD7wKAU4ndSL9Z4yhW25",
      "include_colab_link": true
    },
    "kernelspec": {
      "name": "python3",
      "display_name": "Python 3"
    },
    "language_info": {
      "name": "python"
    }
  },
  "cells": [
    {
      "cell_type": "markdown",
      "metadata": {
        "id": "view-in-github",
        "colab_type": "text"
      },
      "source": [
        "<a href=\"https://colab.research.google.com/github/vnikeshana/MLQestion_06/blob/main/code_01.ipynb\" target=\"_parent\"><img src=\"https://colab.research.google.com/assets/colab-badge.svg\" alt=\"Open In Colab\"/></a>"
      ]
    },
    {
      "cell_type": "code",
      "execution_count": 3,
      "metadata": {
        "id": "wIuelxHb4sKm",
        "outputId": "d9d9cff8-414d-4cdc-8245-62c3aab51a98",
        "colab": {
          "base_uri": "https://localhost:8080/"
        }
      },
      "outputs": [
        {
          "output_type": "stream",
          "name": "stdout",
          "text": [
            "adfasfb\n",
            "rrr\n",
            "test 1500\n"
          ]
        }
      ],
      "source": [
        "import pandas as pd\n",
        "import numpy as np\n",
        "print(\"adfasfb\")\n",
        "print(\"rrr\")\n",
        "print(\"test 1500\")"
      ]
    },
    {
      "cell_type": "code",
      "source": [
        "print(\"rrr\")\n",
        "print(\"test 1500\")"
      ],
      "metadata": {
        "colab": {
          "base_uri": "https://localhost:8080/"
        },
        "id": "QUMHoG81KDFf",
        "outputId": "d7e63e8c-05e7-44ac-cf45-7b49b69440de"
      },
      "execution_count": 4,
      "outputs": [
        {
          "output_type": "stream",
          "name": "stdout",
          "text": [
            "rrr\n",
            "test 1500\n"
          ]
        }
      ]
    },
    {
      "cell_type": "code",
      "source": [
        "print(\"rrr\")\n",
        "print(\"test 1500\")"
      ],
      "metadata": {
        "colab": {
          "base_uri": "https://localhost:8080/"
        },
        "id": "OQXczDcCATZe",
        "outputId": "14741e21-1db7-49fa-ed11-6f581c37691a"
      },
      "execution_count": 5,
      "outputs": [
        {
          "output_type": "stream",
          "name": "stdout",
          "text": [
            "rrr\n",
            "test 1500\n"
          ]
        }
      ]
    }
  ]
}